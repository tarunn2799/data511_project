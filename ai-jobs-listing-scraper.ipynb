{
 "cells": [
  {
   "cell_type": "code",
   "execution_count": 1,
   "id": "cce2d11a",
   "metadata": {},
   "outputs": [
    {
     "name": "stderr",
     "output_type": "stream",
     "text": [
      "/Users/ral/Library/Python/3.9/lib/python/site-packages/urllib3/__init__.py:34: NotOpenSSLWarning: urllib3 v2 only supports OpenSSL 1.1.1+, currently the 'ssl' module is compiled with 'LibreSSL 2.8.3'. See: https://github.com/urllib3/urllib3/issues/3020\n",
      "  warnings.warn(\n"
     ]
    }
   ],
   "source": [
    "from bs4 import BeautifulSoup\n",
    "import requests\n",
    "import json\n",
    "import pandas as pd"
   ]
  },
  {
   "cell_type": "code",
   "execution_count": 2,
   "id": "6ba7077c",
   "metadata": {},
   "outputs": [],
   "source": [
    "def get_job_description(soup):\n",
    "    div_tag = soup.find('div', class_='job-description-text')\n",
    "\n",
    "    if div_tag:\n",
    "        text_inside_div = div_tag.get_text(separator='\\n', strip=True)\n",
    "        return text_inside_div;\n",
    "    \n",
    "    return '';"
   ]
  },
  {
   "cell_type": "code",
   "execution_count": 3,
   "id": "91160074",
   "metadata": {},
   "outputs": [],
   "source": [
    "def get_job_tags(soup):\n",
    "    #p_tag = soup.find(find_tags_string)\n",
    "    p_tags = soup.find_all('p')\n",
    "\n",
    "    for p_tag in p_tags:\n",
    "        h5_span = p_tag.find('span', class_='h5')\n",
    "        if h5_span:\n",
    "            span_texts = [span.get_text(strip=True) for span in h5_span.find_all('span')]\n",
    "            return span_texts;\n",
    "    \n",
    "    return span_texts;        "
   ]
  },
  {
   "cell_type": "code",
   "execution_count": 4,
   "id": "4435b6d7",
   "metadata": {},
   "outputs": [],
   "source": [
    "def get_company(soup):\n",
    "    div_tag = soup.find('div', class_='flex-grow-1 ms-3')\n",
    "\n",
    "    if div_tag:\n",
    "        h2_tag = div_tag.find('h2', class_='h5')\n",
    "        if h2_tag:\n",
    "            return h2_tag.text;\n",
    "\n",
    "    return '';"
   ]
  },
  {
   "cell_type": "code",
   "execution_count": 5,
   "id": "ca9195aa",
   "metadata": {},
   "outputs": [],
   "source": [
    "def extract_job_data(url):\n",
    "    # Send a GET request to the URL\n",
    "    response = requests.get(url)\n",
    "    # Parse the HTML content of the page with BeautifulSoup\n",
    "    soup = BeautifulSoup(response.text, 'html.parser')\n",
    "    \n",
    "    # Extract the required data\n",
    "    data = {}\n",
    "    data['Job Link'] = url\n",
    "    \n",
    "    job_title = soup.find('h1', class_='display-5 mt-4 text-break')\n",
    "    data['Job Title'] = job_title.text if job_title else None\n",
    "    \n",
    "    location = soup.find('h3', class_='lead py-3')\n",
    "    data['Location'] = location.text if location else None\n",
    "    \n",
    "    data['Company Name'] = get_company(soup)\n",
    "    data['Job Description'] = get_job_description(soup)\n",
    "    \n",
    "    salary = soup.find('span', class_='badge rounded-pill text-bg-success my-1')\n",
    "    data['Salary'] = salary.text if salary else None\n",
    "    \n",
    "    employment_type = soup.find('span', class_='badge rounded-pill text-bg-secondary my-1')\n",
    "    data['Employment Type'] = employment_type.text if employment_type else None\n",
    "    \n",
    "    level = soup.find('span', class_='badge rounded-pill text-bg-info my-1')\n",
    "    data['Level'] = level.text if level else None\n",
    "    \n",
    "    data['Job Tags'] = get_job_tags(soup)\n",
    "    \n",
    "    return data\n"
   ]
  },
  {
   "cell_type": "code",
   "execution_count": 6,
   "id": "2a543d0d",
   "metadata": {},
   "outputs": [
    {
     "data": {
      "text/plain": [
       "{'Job Link': 'https://ai-jobs.net/job/79595-openaigpt3-expert-aiml-developer/',\n",
       " 'Job Title': 'OpenAI/GPT3 Expert / AI/ML Developer',\n",
       " 'Location': 'Remote',\n",
       " 'Company Name': 'ModelDiplomat',\n",
       " 'Job Description': 'ModelDiplomat:\\nBuild a prototype for a new AI coach for high school and college students involved in Model United Nations. Model United Nations is a global organization that helps students learn global leadership skills, by researching and representing the points of views of specific countries in conferences that simulate United Nations sessions. After several months of user and market research, we now are looking to build a prototype to get feedback from Beta testers on the product concept.\\nWho are we looking for?\\nWe are looking for an agile AI Developer who is willing to build a rapid prototype (1-2 months) of this AI tool, so that we can launch the beta in advance of many global Model UN conferences which usually run from January - March. We believe this will be the best time to test and get feedback from potential users, in real-case scenarios.\\nAdaptable, entrepreneurial, and willing to iterate.\\nThis should be someone who can offer creative ideas about how to leverage AI to create high impact results and answers for MUN students. Ideally, this individual will operate iteratively and continuously collaborate with the founder on the development of this prototype. Someone who cares about developing young leaders and/or global politics is a plus. The person should have at least\\n5-6 examples\\nof AI projects they can share with us, as examples.\\nTimeline:\\nWe’d like to work through the requirements and contract in November, and have development + testing from December - January. So we can run our Beta Launch in the first week of February.',\n",
       " 'Salary': 'USD 380K - 400K',\n",
       " 'Employment Type': 'Part Time',\n",
       " 'Level': 'Mid-level / Intermediate',\n",
       " 'Job Tags': ['Agile',\n",
       "  'GPT',\n",
       "  'GPT-3',\n",
       "  'Machine Learning',\n",
       "  'Market research',\n",
       "  'OpenAI',\n",
       "  'Prototyping',\n",
       "  'Research',\n",
       "  'Testing']}"
      ]
     },
     "execution_count": 6,
     "metadata": {},
     "output_type": "execute_result"
    }
   ],
   "source": [
    "cipa = extract_job_data('https://ai-jobs.net/job/79595-openaigpt3-expert-aiml-developer/')\n",
    "cipa"
   ]
  },
  {
   "cell_type": "code",
   "execution_count": 7,
   "id": "c15123a4",
   "metadata": {},
   "outputs": [
    {
     "name": "stdout",
     "output_type": "stream",
     "text": [
      "0\n",
      "1\n",
      "2\n",
      "3\n",
      "4\n",
      "5\n",
      "6\n",
      "7\n",
      "8\n",
      "9\n",
      "10\n",
      "11\n",
      "12\n",
      "13\n",
      "14\n",
      "15\n",
      "16\n",
      "17\n",
      "18\n",
      "19\n",
      "20\n",
      "21\n",
      "22\n",
      "23\n",
      "24\n",
      "25\n",
      "26\n",
      "27\n",
      "28\n",
      "29\n",
      "30\n"
     ]
    }
   ],
   "source": [
    "with open('job_posting_data/job_links.json') as json_file:\n",
    "    links = json.load(json_file)\n",
    "\n",
    "json_list = []\n",
    "\n",
    "for index, link in enumerate(links):\n",
    "    print(index)\n",
    "    # if index >= 50:\n",
    "    #     break\n",
    "    json_list.append(extract_job_data(link))\n",
    "\n",
    "df = pd.DataFrame(json_list)\n",
    "df.to_csv('output.csv', index=True)\n",
    "\n",
    "\n"
   ]
  }
 ],
 "metadata": {
  "kernelspec": {
   "display_name": "Python 3 (ipykernel)",
   "language": "python",
   "name": "python3"
  },
  "language_info": {
   "codemirror_mode": {
    "name": "ipython",
    "version": 3
   },
   "file_extension": ".py",
   "mimetype": "text/x-python",
   "name": "python",
   "nbconvert_exporter": "python",
   "pygments_lexer": "ipython3",
   "version": "3.9.6"
  }
 },
 "nbformat": 4,
 "nbformat_minor": 5
}
